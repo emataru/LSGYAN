{
 "cells": [
  {
   "cell_type": "markdown",
   "metadata": {},
   "source": [
    "# LSGYAN\n",
    "- Least Squares Generative Adversarial Networks for GYAN\n",
    "- https://arxiv.org/pdf/1611.04076.pdf"
   ]
  },
  {
   "cell_type": "code",
   "execution_count": null,
   "metadata": {},
   "outputs": [],
   "source": [
    "from keras.layers import Input, Dense, Reshape, Flatten, Activation\n",
    "from keras.layers import BatchNormalization, Activation, Dropout\n",
    "from keras.layers.advanced_activations import LeakyReLU\n",
    "from keras.layers.convolutional import UpSampling2D, Conv2D\n",
    "from keras.models import Sequential, Model\n",
    "from keras.optimizers import Adam\n",
    "\n",
    "import keras.backend as K\n",
    "from keras import regularizers\n",
    "from keras.utils import generic_utils\n",
    "\n",
    "import numpy as np\n",
    "import matplotlib.pyplot as plt\n",
    "import datetime, pathlib"
   ]
  },
  {
   "cell_type": "code",
   "execution_count": null,
   "metadata": {},
   "outputs": [],
   "source": [
    "save_dir = \"{0:%Y-%m-%d_%H%M%S}\".format(datetime.datetime.now())\n",
    "print(save_dir)\n",
    "\n",
    "p = pathlib.Path(save_dir)\n",
    "if p.exists() == False:\n",
    "    p.mkdir()"
   ]
  },
  {
   "cell_type": "code",
   "execution_count": null,
   "metadata": {},
   "outputs": [],
   "source": [
    "pixel_w = 128\n",
    "pixel_h = 128\n",
    "channel = 3\n",
    "\n",
    "x_train = np.load('gyan_images_{}.npy'.format(pixel_w))\n",
    "\n",
    "for i in range(x_train.shape[0]):\n",
    "    print(i)\n",
    "    plt.imshow(x_train[i,:,:,:].astype('uint8'))\n",
    "    plt.show()\n",
    "\n",
    "x_train = x_train.astype('float32')\n",
    "x_train /= 255"
   ]
  },
  {
   "cell_type": "code",
   "execution_count": null,
   "metadata": {},
   "outputs": [],
   "source": [
    "batch_size = 16\n",
    "half_batch_size = int(batch_size / 2)\n",
    "z_dim = 10"
   ]
  },
  {
   "cell_type": "markdown",
   "metadata": {},
   "source": [
    "## Generator"
   ]
  },
  {
   "cell_type": "code",
   "execution_count": null,
   "metadata": {},
   "outputs": [],
   "source": [
    "def generator_model():\n",
    "    in_h = int(pixel_h / 4)\n",
    "    in_w = int(pixel_w / 4)\n",
    "\n",
    "    model = Sequential()\n",
    "    model.add(Dense(256, input_shape=(z_dim,)))\n",
    "    model.add(BatchNormalization())\n",
    "    model.add(LeakyReLU())\n",
    "    \n",
    "    model.add(Dense(in_h*in_w*128))\n",
    "    model.add(Reshape((in_h, in_w, 128)))\n",
    "    model.add(BatchNormalization())\n",
    "    model.add(LeakyReLU())\n",
    "        \n",
    "    model.add(UpSampling2D((2, 2)))\n",
    "    model.add(Conv2D(128, (3, 3), padding=\"same\"))\n",
    "    model.add(BatchNormalization())\n",
    "    model.add(LeakyReLU())\n",
    "\n",
    "    model.add(UpSampling2D((2, 2)))\n",
    "    model.add(Conv2D(64, (3, 3), padding=\"same\"))\n",
    "    model.add(BatchNormalization())\n",
    "    model.add(LeakyReLU())\n",
    "    \n",
    "    model.add(Conv2D(channel, (3, 3), padding=\"same\", activation='sigmoid'))\n",
    "\n",
    "    #model.summary()\n",
    "    return model"
   ]
  },
  {
   "cell_type": "markdown",
   "metadata": {},
   "source": [
    "## Discriminator\n",
    "- Replace pooling layers with strided-convolutions\n",
    "- Don't use BatchNormalization because I cannot generate normally."
   ]
  },
  {
   "cell_type": "code",
   "execution_count": null,
   "metadata": {},
   "outputs": [],
   "source": [
    "def discriminator_model():    \n",
    "    model = Sequential()\n",
    "    \n",
    "    model.add(Conv2D(32, (3, 3), strides=(2, 2), padding='same', input_shape=(pixel_h, pixel_w, channel)))\n",
    "    model.add(LeakyReLU(0.2))\n",
    "\n",
    "    model.add(Conv2D(64, (3, 3), strides=(2, 2)))\n",
    "    model.add(Dropout(0.25))\n",
    "    model.add(LeakyReLU(0.2))\n",
    "\n",
    "    model.add(Conv2D(128, (3, 3), strides=(2, 2)))\n",
    "    model.add(Dropout(0.25))\n",
    "    model.add(LeakyReLU(0.2))\n",
    "\n",
    "    model.add(Conv2D(256, (3, 3), strides=(2, 2)))\n",
    "    model.add(Dropout(0.25))\n",
    "    model.add(LeakyReLU(0.2))\n",
    "    \n",
    "    model.add(Flatten())\n",
    "    model.add(Dense(1))\n",
    "    \n",
    "    # Don't use activation at output layer\n",
    "#    model.add(Activation('sigmoid'))\n",
    "\n",
    "    #model.summary()\n",
    "    return model"
   ]
  },
  {
   "cell_type": "markdown",
   "metadata": {},
   "source": [
    "# Combine Generator and Discriminator"
   ]
  },
  {
   "cell_type": "code",
   "execution_count": null,
   "metadata": {},
   "outputs": [],
   "source": [
    "def generator_and_discriminator(g, d):\n",
    "    model = Sequential()\n",
    "    model.add(g)\n",
    "    d.trainable = False\n",
    "    model.add(d)\n",
    "    #model.summary()\n",
    "    return model"
   ]
  },
  {
   "cell_type": "markdown",
   "metadata": {},
   "source": [
    "## Optimizer"
   ]
  },
  {
   "cell_type": "code",
   "execution_count": null,
   "metadata": {},
   "outputs": [],
   "source": [
    "optimizer = Adam(0.0002, 0.5)"
   ]
  },
  {
   "cell_type": "markdown",
   "metadata": {},
   "source": [
    "## Loss Function\n",
    "- $a$ and $b$ are the labels for fake data\n",
    "- $c$ denotes the value that G wants D to believe for fake data."
   ]
  },
  {
   "cell_type": "code",
   "execution_count": null,
   "metadata": {},
   "outputs": [],
   "source": [
    "# Parameters Selection\n",
    "# See the paper 3,2,3 (9)\n",
    "a, b, c = 0, 1, 1\n",
    "# lambda\n",
    "r = 0.9\n",
    "\n",
    "# for Discriminator\n",
    "def loss_D(y_true, y_pred):\n",
    "    a_mask = K.cast(K.equal(y_true, a), K.floatx())\n",
    "    b_mask = K.cast(K.equal(y_true, b), K.floatx())\n",
    "    a_loss = K.sum((y_pred * a_mask - a) ** 2) / K.sum(a_mask)\n",
    "    b_loss = K.sum((y_pred * b_mask - b) ** 2) / K.sum(b_mask)\n",
    "    return 0.5 * (a_loss + b_loss)\n",
    "\n",
    "# for Generator\n",
    "def loss_G(y_true, y_pred):\n",
    "    return 0.5 * (K.sum((y_pred - c) ** 2)) / batch_size + r * K.sum(K.abs(y_pred - y_true)) / batch_size"
   ]
  },
  {
   "cell_type": "code",
   "execution_count": null,
   "metadata": {},
   "outputs": [],
   "source": [
    "discriminator = discriminator_model()\n",
    "discriminator.compile(loss=loss_D, optimizer=optimizer, metrics=[\"accuracy\"])"
   ]
  },
  {
   "cell_type": "code",
   "execution_count": null,
   "metadata": {},
   "outputs": [],
   "source": [
    "generator = generator_model()\n",
    "combined = generator_and_discriminator(generator, discriminator)\n",
    "combined.compile(loss=loss_G, optimizer=optimizer, metrics=[\"accuracy\"])"
   ]
  },
  {
   "cell_type": "code",
   "execution_count": null,
   "metadata": {},
   "outputs": [],
   "source": [
    "def show_img(epoch, is_save=True):\n",
    "    r, c = 5, 5\n",
    "    noise = np.random.normal(0, 1, (r*c, z_dim))\n",
    "\n",
    "    gen_imgs = generator.predict(noise)\n",
    "    fig, axs = plt.subplots(r, c, figsize=(16, 16))\n",
    "    cnt = 0\n",
    "    for i in range(r):\n",
    "        for j in range(c):\n",
    "            img = np.squeeze(gen_imgs[cnt, :, :, :])\n",
    "            axs[i, j].imshow(img)\n",
    "            axs[i, j].axis('off')\n",
    "            cnt += 1\n",
    "    if is_save:\n",
    "        fig.savefig(save_dir + \"/lsgyan_%d.png\" % epoch)\n",
    "        plt.close()\n",
    "    else:\n",
    "        plt.show()"
   ]
  },
  {
   "cell_type": "code",
   "execution_count": null,
   "metadata": {},
   "outputs": [],
   "source": [
    "epochs = 50000\n",
    "\n",
    "d_loss_list = []\n",
    "d_acc_list = []\n",
    "g_loss_list = []\n",
    "g_acc_list = []\n",
    "\n",
    "for epoch in range(epochs):\n",
    "    # Discriminator\n",
    "    idx = np.random.randint(0, x_train.shape[0], half_batch_size)\n",
    "    imgs = x_train[idx]\n",
    "    # Create fake images\n",
    "    noise = np.random.normal(0, 1, (half_batch_size, z_dim))\n",
    "    gen_imgs = generator.predict(noise)\n",
    "    # ombine Real + Fake images\n",
    "    concat_imgs = np.concatenate([imgs, gen_imgs], axis=0)\n",
    "    # Real label=1、Fake label=0\n",
    "    concat_labels = np.concatenate([np.ones((half_batch_size, 1)), np.zeros((half_batch_size, 1))], axis=0)\n",
    "    # train\n",
    "    d_loss, d_acc = discriminator.train_on_batch(concat_imgs, concat_labels)\n",
    "    d_loss_list.append(d_loss)\n",
    "    d_acc_list.append(d_acc)\n",
    "\n",
    "    # Generator\n",
    "    noise = np.random.normal(0, 1, (batch_size, z_dim))\n",
    "    g_loss, g_acc = combined.train_on_batch(noise, np.ones((batch_size, 1)))\n",
    "    g_loss_list.append(g_loss)\n",
    "    g_acc_list.append(g_acc)\n",
    "\n",
    "    if epoch % 500 == 0:\n",
    "        print(\"epoch:{} d_loss:{:2f} d_acc:{:2f} g_loss:{:2f} g_acc:{:2f}\".format(epoch, d_loss, d_acc, g_loss, g_acc))\n",
    "        #generator.save_weights(save_dir + \"/generator_{}.hdf5\".format(epoch))\n",
    "        #discriminator.save_weights(save_dir + \"/discriminator_{}.hdf5\".format(epoch))\n",
    "        show_img(epoch)"
   ]
  },
  {
   "cell_type": "code",
   "execution_count": null,
   "metadata": {},
   "outputs": [],
   "source": [
    "plt.plot(d_loss_list, label='D Loss')\n",
    "plt.plot(g_loss_list, label='G Loss')\n",
    "plt.legend()\n",
    "plt.show()"
   ]
  },
  {
   "cell_type": "code",
   "execution_count": null,
   "metadata": {},
   "outputs": [],
   "source": [
    "show_img(0, False)"
   ]
  },
  {
   "cell_type": "markdown",
   "metadata": {},
   "source": [
    "# Generate images while moving latent variables"
   ]
  },
  {
   "cell_type": "code",
   "execution_count": null,
   "metadata": {},
   "outputs": [],
   "source": [
    "noise = np.random.normal(0, 1, (2, z_dim))\n",
    "start = np.expand_dims(noise[0], axis=0)\n",
    "end = np.expand_dims(noise[1], axis=0)\n",
    "steps = 10\n",
    "start_img = generator.predict(start)\n",
    "end_img = generator.predict(end)\n",
    "\n",
    "vectors = []\n",
    "alpha_values = np.linspace(0, 1, steps)\n",
    "for alpha in alpha_values:\n",
    "    vector = start * (1 - alpha) + end * alpha\n",
    "    vectors.append(vector)\n",
    "vectors = np.array(vectors)\n",
    "\n",
    "result_image = []\n",
    "for i, vec in enumerate(vectors):\n",
    "    gen_img = np.squeeze(generator.predict(vec), axis=0)\n",
    "    gen_img *= 255\n",
    "    interpolated_img = gen_img.astype('uint8')\n",
    "    result_image.append(interpolated_img)\n",
    "\n",
    "result_image = np.array(result_image)\n",
    "r = 2\n",
    "c = 5\n",
    "fig, axs = plt.subplots(r, c, figsize=(16, r * 3))\n",
    "cnt = 0\n",
    "for i in range(r):\n",
    "    for j in range(c):\n",
    "        img = np.squeeze(result_image[cnt, :, :, :])\n",
    "        axs[i, j].imshow(img)\n",
    "        axs[i, j].axis('off')\n",
    "        cnt += 1\n",
    "plt.show()  "
   ]
  },
  {
   "cell_type": "code",
   "execution_count": null,
   "metadata": {},
   "outputs": [],
   "source": []
  }
 ],
 "metadata": {
  "kernelspec": {
   "display_name": "Python 3",
   "language": "python",
   "name": "python3"
  },
  "language_info": {
   "codemirror_mode": {
    "name": "ipython",
    "version": 3
   },
   "file_extension": ".py",
   "mimetype": "text/x-python",
   "name": "python",
   "nbconvert_exporter": "python",
   "pygments_lexer": "ipython3",
   "version": "3.6.7"
  }
 },
 "nbformat": 4,
 "nbformat_minor": 2
}
