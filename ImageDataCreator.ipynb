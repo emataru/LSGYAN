{
 "cells": [
  {
   "cell_type": "code",
   "execution_count": null,
   "metadata": {},
   "outputs": [],
   "source": [
    "import numpy as np\n",
    "import cv2\n",
    "\n",
    "import os\n",
    "from pathlib import Path\n",
    "import matplotlib.pyplot as plt\n",
    "\n",
    "size = 128"
   ]
  },
  {
   "cell_type": "code",
   "execution_count": null,
   "metadata": {},
   "outputs": [],
   "source": [
    "p = Path(\"data/\")\n",
    "files = sorted(p.glob(\"*.jpg\"))"
   ]
  },
  {
   "cell_type": "code",
   "execution_count": null,
   "metadata": {},
   "outputs": [],
   "source": [
    "file_length = len(files)\n",
    "print(file_length)\n",
    "\n",
    "data = np.zeros((file_length, size, size, 3))\n",
    "print(data.shape)"
   ]
  },
  {
   "cell_type": "code",
   "execution_count": null,
   "metadata": {},
   "outputs": [],
   "source": [
    "def imread(filename, flags=cv2.IMREAD_COLOR, dtype=np.uint8):\n",
    "    try:\n",
    "        n = np.fromfile(filename, dtype)\n",
    "        img = cv2.imdecode(n, flags)\n",
    "        return img\n",
    "    except Exception as e:\n",
    "        print(e)\n",
    "        return None"
   ]
  },
  {
   "cell_type": "code",
   "execution_count": null,
   "metadata": {},
   "outputs": [],
   "source": [
    "cnt = -1\n",
    "for file in files:\n",
    "    cnt += 1\n",
    "    print(file)\n",
    "    img = imread(str(file))\n",
    "    if type(img) == 'NoneType':\n",
    "        continue\n",
    "    h,w,c = img.shape\n",
    "    print(h,w,c)\n",
    "    if h < size:\n",
    "        print(\"h\")\n",
    "        continue\n",
    "    if w < size:\n",
    "        print(\"w\")\n",
    "        continue\n",
    "    if h == w:\n",
    "        H = size\n",
    "        W = size\n",
    "    else:\n",
    "        if h > w:\n",
    "            ratio = size / w\n",
    "        else:\n",
    "            ratio = size / h\n",
    "        H = int(h * ratio)\n",
    "        W = int(w * ratio)\n",
    "    resized = cv2.resize(img, (W, H), interpolation=cv2.INTER_AREA)\n",
    "    clamp = resized[0:size,0:size,::-1]\n",
    "#     plt.imshow(clamp)\n",
    "#     plt.show(_)\n",
    "    data[cnt] = clamp"
   ]
  },
  {
   "cell_type": "code",
   "execution_count": null,
   "metadata": {},
   "outputs": [],
   "source": [
    "for i in range(data.shape[0]):\n",
    "    print(i)\n",
    "    plt.imshow(data[i,:,:,:].astype('uint8'))\n",
    "    plt.show()"
   ]
  },
  {
   "cell_type": "code",
   "execution_count": null,
   "metadata": {},
   "outputs": [],
   "source": [
    "np.save('gyan_images_{}.npy'.format(size), data)"
   ]
  },
  {
   "cell_type": "code",
   "execution_count": null,
   "metadata": {},
   "outputs": [],
   "source": []
  }
 ],
 "metadata": {
  "kernelspec": {
   "display_name": "Python 3",
   "language": "python",
   "name": "python3"
  },
  "language_info": {
   "codemirror_mode": {
    "name": "ipython",
    "version": 3
   },
   "file_extension": ".py",
   "mimetype": "text/x-python",
   "name": "python",
   "nbconvert_exporter": "python",
   "pygments_lexer": "ipython3",
   "version": "3.6.7"
  }
 },
 "nbformat": 4,
 "nbformat_minor": 2
}
